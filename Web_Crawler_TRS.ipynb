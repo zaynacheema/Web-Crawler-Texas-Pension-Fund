{
  "nbformat": 4,
  "nbformat_minor": 0,
  "metadata": {
    "colab": {
      "provenance": []
    },
    "kernelspec": {
      "name": "python3",
      "display_name": "Python 3"
    },
    "language_info": {
      "name": "python"
    }
  },
  "cells": [
    {
      "cell_type": "code",
      "source": [
        "#install necessary libraries and packages\n",
        "!pip install duckduckgo-search requests-html nest-asyncio\n",
        "!pip install requests-html"
      ],
      "metadata": {
        "colab": {
          "base_uri": "https://localhost:8080/"
        },
        "id": "_8SpOi5oBwP4",
        "outputId": "c90abefe-3ee4-4ca4-ae7b-abfbc7874c60"
      },
      "execution_count": null,
      "outputs": [
        {
          "output_type": "stream",
          "name": "stdout",
          "text": [
            "Collecting duckduckgo-search\n",
            "  Downloading duckduckgo_search-6.2.11-py3-none-any.whl.metadata (24 kB)\n",
            "Collecting requests-html\n",
            "  Downloading requests_html-0.10.0-py3-none-any.whl.metadata (15 kB)\n",
            "Requirement already satisfied: nest-asyncio in /usr/local/lib/python3.10/dist-packages (1.6.0)\n",
            "Requirement already satisfied: click>=8.1.7 in /usr/local/lib/python3.10/dist-packages (from duckduckgo-search) (8.1.7)\n",
            "Collecting primp>=0.6.1 (from duckduckgo-search)\n",
            "  Downloading primp-0.6.1-cp38-abi3-manylinux_2_17_x86_64.manylinux2014_x86_64.whl.metadata (10 kB)\n",
            "Requirement already satisfied: requests in /usr/local/lib/python3.10/dist-packages (from requests-html) (2.32.3)\n",
            "Collecting pyquery (from requests-html)\n",
            "  Downloading pyquery-2.0.1-py3-none-any.whl.metadata (9.0 kB)\n",
            "Collecting fake-useragent (from requests-html)\n",
            "  Downloading fake_useragent-1.5.1-py3-none-any.whl.metadata (15 kB)\n",
            "Collecting parse (from requests-html)\n",
            "  Downloading parse-1.20.2-py2.py3-none-any.whl.metadata (22 kB)\n",
            "Collecting bs4 (from requests-html)\n",
            "  Downloading bs4-0.0.2-py2.py3-none-any.whl.metadata (411 bytes)\n",
            "Collecting w3lib (from requests-html)\n",
            "  Downloading w3lib-2.2.1-py3-none-any.whl.metadata (2.1 kB)\n",
            "Collecting pyppeteer>=0.0.14 (from requests-html)\n",
            "  Downloading pyppeteer-2.0.0-py3-none-any.whl.metadata (7.1 kB)\n",
            "Collecting appdirs<2.0.0,>=1.4.3 (from pyppeteer>=0.0.14->requests-html)\n",
            "  Downloading appdirs-1.4.4-py2.py3-none-any.whl.metadata (9.0 kB)\n",
            "Requirement already satisfied: certifi>=2023 in /usr/local/lib/python3.10/dist-packages (from pyppeteer>=0.0.14->requests-html) (2024.8.30)\n",
            "Requirement already satisfied: importlib-metadata>=1.4 in /usr/local/lib/python3.10/dist-packages (from pyppeteer>=0.0.14->requests-html) (8.4.0)\n",
            "Collecting pyee<12.0.0,>=11.0.0 (from pyppeteer>=0.0.14->requests-html)\n",
            "  Downloading pyee-11.1.1-py3-none-any.whl.metadata (2.8 kB)\n",
            "Requirement already satisfied: tqdm<5.0.0,>=4.42.1 in /usr/local/lib/python3.10/dist-packages (from pyppeteer>=0.0.14->requests-html) (4.66.5)\n",
            "Collecting urllib3<2.0.0,>=1.25.8 (from pyppeteer>=0.0.14->requests-html)\n",
            "  Downloading urllib3-1.26.20-py2.py3-none-any.whl.metadata (50 kB)\n",
            "\u001b[2K     \u001b[90m━━━━━━━━━━━━━━━━━━━━━━━━━━━━━━━━━━━━━━━━\u001b[0m \u001b[32m50.1/50.1 kB\u001b[0m \u001b[31m2.7 MB/s\u001b[0m eta \u001b[36m0:00:00\u001b[0m\n",
            "\u001b[?25hCollecting websockets<11.0,>=10.0 (from pyppeteer>=0.0.14->requests-html)\n",
            "  Downloading websockets-10.4-cp310-cp310-manylinux_2_5_x86_64.manylinux1_x86_64.manylinux_2_17_x86_64.manylinux2014_x86_64.whl.metadata (6.4 kB)\n",
            "Requirement already satisfied: beautifulsoup4 in /usr/local/lib/python3.10/dist-packages (from bs4->requests-html) (4.12.3)\n",
            "Requirement already satisfied: lxml>=2.1 in /usr/local/lib/python3.10/dist-packages (from pyquery->requests-html) (4.9.4)\n",
            "Collecting cssselect>=1.2.0 (from pyquery->requests-html)\n",
            "  Downloading cssselect-1.2.0-py2.py3-none-any.whl.metadata (2.2 kB)\n",
            "Requirement already satisfied: charset-normalizer<4,>=2 in /usr/local/lib/python3.10/dist-packages (from requests->requests-html) (3.3.2)\n",
            "Requirement already satisfied: idna<4,>=2.5 in /usr/local/lib/python3.10/dist-packages (from requests->requests-html) (3.8)\n",
            "Requirement already satisfied: zipp>=0.5 in /usr/local/lib/python3.10/dist-packages (from importlib-metadata>=1.4->pyppeteer>=0.0.14->requests-html) (3.20.1)\n",
            "Requirement already satisfied: typing-extensions in /usr/local/lib/python3.10/dist-packages (from pyee<12.0.0,>=11.0.0->pyppeteer>=0.0.14->requests-html) (4.12.2)\n",
            "Requirement already satisfied: soupsieve>1.2 in /usr/local/lib/python3.10/dist-packages (from beautifulsoup4->bs4->requests-html) (2.6)\n",
            "Downloading duckduckgo_search-6.2.11-py3-none-any.whl (27 kB)\n",
            "Downloading requests_html-0.10.0-py3-none-any.whl (13 kB)\n",
            "Downloading primp-0.6.1-cp38-abi3-manylinux_2_17_x86_64.manylinux2014_x86_64.whl (2.8 MB)\n",
            "\u001b[2K   \u001b[90m━━━━━━━━━━━━━━━━━━━━━━━━━━━━━━━━━━━━━━━━\u001b[0m \u001b[32m2.8/2.8 MB\u001b[0m \u001b[31m30.0 MB/s\u001b[0m eta \u001b[36m0:00:00\u001b[0m\n",
            "\u001b[?25hDownloading pyppeteer-2.0.0-py3-none-any.whl (82 kB)\n",
            "\u001b[2K   \u001b[90m━━━━━━━━━━━━━━━━━━━━━━━━━━━━━━━━━━━━━━━━\u001b[0m \u001b[32m82.9/82.9 kB\u001b[0m \u001b[31m4.9 MB/s\u001b[0m eta \u001b[36m0:00:00\u001b[0m\n",
            "\u001b[?25hDownloading bs4-0.0.2-py2.py3-none-any.whl (1.2 kB)\n",
            "Downloading fake_useragent-1.5.1-py3-none-any.whl (17 kB)\n",
            "Downloading parse-1.20.2-py2.py3-none-any.whl (20 kB)\n",
            "Downloading pyquery-2.0.1-py3-none-any.whl (22 kB)\n",
            "Downloading w3lib-2.2.1-py3-none-any.whl (21 kB)\n",
            "Downloading appdirs-1.4.4-py2.py3-none-any.whl (9.6 kB)\n",
            "Downloading cssselect-1.2.0-py2.py3-none-any.whl (18 kB)\n",
            "Downloading pyee-11.1.1-py3-none-any.whl (15 kB)\n",
            "Downloading urllib3-1.26.20-py2.py3-none-any.whl (144 kB)\n",
            "\u001b[2K   \u001b[90m━━━━━━━━━━━━━━━━━━━━━━━━━━━━━━━━━━━━━━━━\u001b[0m \u001b[32m144.2/144.2 kB\u001b[0m \u001b[31m11.1 MB/s\u001b[0m eta \u001b[36m0:00:00\u001b[0m\n",
            "\u001b[?25hDownloading websockets-10.4-cp310-cp310-manylinux_2_5_x86_64.manylinux1_x86_64.manylinux_2_17_x86_64.manylinux2014_x86_64.whl (106 kB)\n",
            "\u001b[2K   \u001b[90m━━━━━━━━━━━━━━━━━━━━━━━━━━━━━━━━━━━━━━━━\u001b[0m \u001b[32m106.8/106.8 kB\u001b[0m \u001b[31m8.5 MB/s\u001b[0m eta \u001b[36m0:00:00\u001b[0m\n",
            "\u001b[?25hInstalling collected packages: parse, fake-useragent, appdirs, websockets, w3lib, urllib3, pyee, primp, cssselect, pyquery, pyppeteer, duckduckgo-search, bs4, requests-html\n",
            "  Attempting uninstall: urllib3\n",
            "    Found existing installation: urllib3 2.0.7\n",
            "    Uninstalling urllib3-2.0.7:\n",
            "      Successfully uninstalled urllib3-2.0.7\n",
            "Successfully installed appdirs-1.4.4 bs4-0.0.2 cssselect-1.2.0 duckduckgo-search-6.2.11 fake-useragent-1.5.1 parse-1.20.2 primp-0.6.1 pyee-11.1.1 pyppeteer-2.0.0 pyquery-2.0.1 requests-html-0.10.0 urllib3-1.26.20 w3lib-2.2.1 websockets-10.4\n",
            "Requirement already satisfied: requests-html in /usr/local/lib/python3.10/dist-packages (0.10.0)\n",
            "Requirement already satisfied: requests in /usr/local/lib/python3.10/dist-packages (from requests-html) (2.32.3)\n",
            "Requirement already satisfied: pyquery in /usr/local/lib/python3.10/dist-packages (from requests-html) (2.0.1)\n",
            "Requirement already satisfied: fake-useragent in /usr/local/lib/python3.10/dist-packages (from requests-html) (1.5.1)\n",
            "Requirement already satisfied: parse in /usr/local/lib/python3.10/dist-packages (from requests-html) (1.20.2)\n",
            "Requirement already satisfied: bs4 in /usr/local/lib/python3.10/dist-packages (from requests-html) (0.0.2)\n",
            "Requirement already satisfied: w3lib in /usr/local/lib/python3.10/dist-packages (from requests-html) (2.2.1)\n",
            "Requirement already satisfied: pyppeteer>=0.0.14 in /usr/local/lib/python3.10/dist-packages (from requests-html) (2.0.0)\n",
            "Requirement already satisfied: appdirs<2.0.0,>=1.4.3 in /usr/local/lib/python3.10/dist-packages (from pyppeteer>=0.0.14->requests-html) (1.4.4)\n",
            "Requirement already satisfied: certifi>=2023 in /usr/local/lib/python3.10/dist-packages (from pyppeteer>=0.0.14->requests-html) (2024.8.30)\n",
            "Requirement already satisfied: importlib-metadata>=1.4 in /usr/local/lib/python3.10/dist-packages (from pyppeteer>=0.0.14->requests-html) (8.4.0)\n",
            "Requirement already satisfied: pyee<12.0.0,>=11.0.0 in /usr/local/lib/python3.10/dist-packages (from pyppeteer>=0.0.14->requests-html) (11.1.1)\n",
            "Requirement already satisfied: tqdm<5.0.0,>=4.42.1 in /usr/local/lib/python3.10/dist-packages (from pyppeteer>=0.0.14->requests-html) (4.66.5)\n",
            "Requirement already satisfied: urllib3<2.0.0,>=1.25.8 in /usr/local/lib/python3.10/dist-packages (from pyppeteer>=0.0.14->requests-html) (1.26.20)\n",
            "Requirement already satisfied: websockets<11.0,>=10.0 in /usr/local/lib/python3.10/dist-packages (from pyppeteer>=0.0.14->requests-html) (10.4)\n",
            "Requirement already satisfied: beautifulsoup4 in /usr/local/lib/python3.10/dist-packages (from bs4->requests-html) (4.12.3)\n",
            "Requirement already satisfied: lxml>=2.1 in /usr/local/lib/python3.10/dist-packages (from pyquery->requests-html) (4.9.4)\n",
            "Requirement already satisfied: cssselect>=1.2.0 in /usr/local/lib/python3.10/dist-packages (from pyquery->requests-html) (1.2.0)\n",
            "Requirement already satisfied: charset-normalizer<4,>=2 in /usr/local/lib/python3.10/dist-packages (from requests->requests-html) (3.3.2)\n",
            "Requirement already satisfied: idna<4,>=2.5 in /usr/local/lib/python3.10/dist-packages (from requests->requests-html) (3.8)\n",
            "Requirement already satisfied: zipp>=0.5 in /usr/local/lib/python3.10/dist-packages (from importlib-metadata>=1.4->pyppeteer>=0.0.14->requests-html) (3.20.1)\n",
            "Requirement already satisfied: typing-extensions in /usr/local/lib/python3.10/dist-packages (from pyee<12.0.0,>=11.0.0->pyppeteer>=0.0.14->requests-html) (4.12.2)\n",
            "Requirement already satisfied: soupsieve>1.2 in /usr/local/lib/python3.10/dist-packages (from beautifulsoup4->bs4->requests-html) (2.6)\n"
          ]
        }
      ]
    },
    {
      "cell_type": "code",
      "source": [
        "# This code searches DuckDuckGo for a specific query, in this case, TRS board meeting webcasts, using the DDGS library\n",
        "# and retrieves relevant URLs. It then fetches and renders the webpages using AsyncHTMLSession, parsing them with BeautifulSoup to\n",
        "# find Mediasite video links. The entire process runs asynchronously to gather results efficiently. Finally, it prints and returns\n",
        "# any Mediasite links found from the top search results."
      ],
      "metadata": {
        "id": "KBcERoINDkqa"
      },
      "execution_count": null,
      "outputs": []
    },
    {
      "cell_type": "code",
      "source": [
        "from duckduckgo_search import DDGS\n",
        "from bs4 import BeautifulSoup\n",
        "from requests_html import AsyncHTMLSession\n",
        "import nest_asyncio\n",
        "import asyncio\n",
        "from pprint import pprint\n",
        "import random\n",
        "import time\n",
        "\n",
        "#to allow asyncio to work in Colab\n",
        "nest_asyncio.apply()\n",
        "\n",
        "def search_duckduckgo(query, max_results=5):\n",
        "    with DDGS() as ddgs:\n",
        "        results = list(ddgs.text(query, max_results=max_results))\n",
        "    print(f\"Search results for: {query}\")\n",
        "    urls = []\n",
        "    for r in results:\n",
        "        print(f\"Result URL: {r['href']}\")\n",
        "        urls.append(r['href'])\n",
        "    return urls\n",
        "\n",
        "async def fetch_mediasite_links(url):\n",
        "    session = AsyncHTMLSession()\n",
        "    try:\n",
        "        response = await session.get(url)\n",
        "        await response.html.arender()\n",
        "        soup = BeautifulSoup(response.html.html, 'html.parser')\n",
        "        mediasite_links = []\n",
        "        for link in soup.find_all('a'):\n",
        "            href = link.get('href')\n",
        "            if href and 'mediasite' in href:\n",
        "                mediasite_links.append(href)\n",
        "                print('Mediasite link found:', href)\n",
        "        if not mediasite_links:\n",
        "            print(f\"No Mediasite links found in {url}\")\n",
        "        return mediasite_links\n",
        "    except Exception as e:\n",
        "        print(f\"Error fetching {url}: {e}\")\n",
        "        return []\n",
        "\n",
        "async def main(urls):\n",
        "    tasks = [fetch_mediasite_links(url) for url in urls]\n",
        "    results = await asyncio.gather(*tasks)\n",
        "    return [link for sublist in results for link in sublist]\n",
        "\n",
        "def search_and_crawl(query, max_results=3):\n",
        "    urls = search_duckduckgo(query, max_results)\n",
        "    if not urls:\n",
        "        print(f\"No results found for query: {query}\")\n",
        "        return []\n",
        "\n",
        "    print(f\"Fetching Mediasite links from top {len(urls)} results...\")\n",
        "    results = asyncio.run(main(urls))\n",
        "    return results\n",
        "\n",
        "#usage\n",
        "query = 'TRS board meeting webcasts'\n",
        "result = search_and_crawl(query)\n",
        "pprint(result)"
      ],
      "metadata": {
        "colab": {
          "base_uri": "https://localhost:8080/"
        },
        "id": "cWuZ-5n3BwbU",
        "outputId": "4871cd04-e731-49c0-e040-8ffd8b68d715"
      },
      "execution_count": null,
      "outputs": [
        {
          "output_type": "stream",
          "name": "stdout",
          "text": [
            "Search results for: TRS board meeting webcasts\n",
            "Result URL: https://www.trs.texas.gov/Pages/board_meeting_webcasts.aspx\n",
            "Result URL: https://www.trs.texas.gov/Pages/board_meeting_calendar.aspx\n",
            "Result URL: https://www.trs.texas.gov/Pages/board.aspx\n",
            "Fetching Mediasite links from top 3 results...\n"
          ]
        },
        {
          "output_type": "stream",
          "name": "stderr",
          "text": [
            "[INFO] Starting Chromium download.\n",
            "INFO:pyppeteer.chromium_downloader:Starting Chromium download.\n",
            "100%|██████████| 183M/183M [00:06<00:00, 26.5Mb/s]\n",
            "[INFO] Beginning extraction\n",
            "INFO:pyppeteer.chromium_downloader:Beginning extraction\n",
            "[INFO] Chromium extracted to: /root/.local/share/pyppeteer/local-chromium/1181205\n",
            "INFO:pyppeteer.chromium_downloader:Chromium extracted to: /root/.local/share/pyppeteer/local-chromium/1181205\n"
          ]
        },
        {
          "output_type": "stream",
          "name": "stdout",
          "text": [
            "No Mediasite links found in https://www.trs.texas.gov/Pages/board_meeting_calendar.aspx\n",
            "Mediasite link found: https://urldefense.com/v3/__https:/trs.mediasite.com/mediasite/Play/f2611598c594445e98b5ca03f4542db41d__;!!KATJWcSg8mjg!-W4mdjR7GTuCKBzwBfbJIkIf3eyrsOh_AglLL4Kzz1635seKeYNUI3N4SeoUhjs4Qy-M7hSxcKBACQy0Y8tCNp0tYHgCN0R1DOqc1w$\n",
            "Mediasite link found: https://urldefense.com/v3/__https:/trs.mediasite.com/mediasite/Play/812d17a7f17a4fcea1cc4940b758e6d31d__;!!KATJWcSg8mjg!-W4mdjR7GTuCKBzwBfbJIkIf3eyrsOh_AglLL4Kzz1635seKeYNUI3N4SeoUhjs4Qy-M7hSxcKBACQy0Y8tCNp0tYHgCN0RvfA1SuQ$\n",
            "Mediasite link found: https://trs.mediasite.com/mediasite/Channel/trsjuly/browse/null/title-az/null/0/77e5dbd7e3974351a3593b82d8de604f14\n",
            "Mediasite link found: https://trs.mediasite.com/mediasite/Channel/trsmaymeeting2024/browse/null/title-az/null/0/c0f455d2465c4a66ae3bf37ac7389f2e14\n",
            "Mediasite link found: https://trs.mediasite.com/mediasite/Channel/20242dayboardmeetinglive/browse/null/title-az/null/0/b5fcba3f698741bb94a64336cfdbe27a14\n",
            "Mediasite link found: https://trs.mediasite.com/mediasite/Channel/300ab988e53040ac9403fc52d3f23b7f5f/browse/null/title-az/null/0/59015c1488734650908f845fbd2c659f14\n",
            "Mediasite link found: https://trs.mediasite.com/mediasite/Channel/cda73e960cdd4503b24450ed9c4e7a135f/browse/null/title-az/null/0/2402251da232410daf7f121daa47644714\n",
            "Mediasite link found: https://trs.mediasite.com/mediasite/Channel/76e77c216fc34bdc96bf1ecb43f75f705f/browse/null/title-az/null/0/d1b516ed8299427499d3b26fed97d6c514\n",
            "Mediasite link found: https://trs.mediasite.com/mediasite/Channel/d99db6e037fb4a6387b738548615e4435f/browse/null/title-az/null/0/null\n",
            "Mediasite link found: https://trs.mediasite.com/mediasite/Channel/trs2daymeetingapril2023/browse/null/title-az/null/0/acd0d6fb80114f40bbead4deea0e582c14\n",
            "Mediasite link found: https://trs.mediasite.com/mediasite/Channel/trs2daymeetingfebruary2023/browse/null/title-az/null/0/null\n",
            "Mediasite link found: https://trs.mediasite.com/mediasite/Channel/trs2daymeetingdecember2022/browse/null/title-az/null/0/5c8e0b1b21ac4167b844c4cd5478889714\n",
            "Mediasite link found: https://trs.mediasite.com/mediasite/Channel/trs2daymeetingseptember2022/browse/null/title-az/null/0/11eae407c8ab4ee6b0e76f30e813d15114\n",
            "Mediasite link found: https://urldefense.com/v3/__https:/trs.mediasite.com/mediasite/Play/f2611598c594445e98b5ca03f4542db41d__;!!KATJWcSg8mjg!-W4mdjR7GTuCKBzwBfbJIkIf3eyrsOh_AglLL4Kzz1635seKeYNUI3N4SeoUhjs4Qy-M7hSxcKBACQy0Y8tCNp0tYHgCN0R1DOqc1w$\n",
            "Mediasite link found: https://urldefense.com/v3/__https:/trs.mediasite.com/mediasite/Play/812d17a7f17a4fcea1cc4940b758e6d31d__;!!KATJWcSg8mjg!-W4mdjR7GTuCKBzwBfbJIkIf3eyrsOh_AglLL4Kzz1635seKeYNUI3N4SeoUhjs4Qy-M7hSxcKBACQy0Y8tCNp0tYHgCN0RvfA1SuQ$\n",
            "['https://urldefense.com/v3/__https:/trs.mediasite.com/mediasite/Play/f2611598c594445e98b5ca03f4542db41d__;!!KATJWcSg8mjg!-W4mdjR7GTuCKBzwBfbJIkIf3eyrsOh_AglLL4Kzz1635seKeYNUI3N4SeoUhjs4Qy-M7hSxcKBACQy0Y8tCNp0tYHgCN0R1DOqc1w$',\n",
            " 'https://urldefense.com/v3/__https:/trs.mediasite.com/mediasite/Play/812d17a7f17a4fcea1cc4940b758e6d31d__;!!KATJWcSg8mjg!-W4mdjR7GTuCKBzwBfbJIkIf3eyrsOh_AglLL4Kzz1635seKeYNUI3N4SeoUhjs4Qy-M7hSxcKBACQy0Y8tCNp0tYHgCN0RvfA1SuQ$',\n",
            " 'https://trs.mediasite.com/mediasite/Channel/trsjuly/browse/null/title-az/null/0/77e5dbd7e3974351a3593b82d8de604f14',\n",
            " 'https://trs.mediasite.com/mediasite/Channel/trsmaymeeting2024/browse/null/title-az/null/0/c0f455d2465c4a66ae3bf37ac7389f2e14',\n",
            " 'https://trs.mediasite.com/mediasite/Channel/20242dayboardmeetinglive/browse/null/title-az/null/0/b5fcba3f698741bb94a64336cfdbe27a14',\n",
            " 'https://trs.mediasite.com/mediasite/Channel/300ab988e53040ac9403fc52d3f23b7f5f/browse/null/title-az/null/0/59015c1488734650908f845fbd2c659f14',\n",
            " 'https://trs.mediasite.com/mediasite/Channel/cda73e960cdd4503b24450ed9c4e7a135f/browse/null/title-az/null/0/2402251da232410daf7f121daa47644714',\n",
            " 'https://trs.mediasite.com/mediasite/Channel/76e77c216fc34bdc96bf1ecb43f75f705f/browse/null/title-az/null/0/d1b516ed8299427499d3b26fed97d6c514',\n",
            " 'https://trs.mediasite.com/mediasite/Channel/d99db6e037fb4a6387b738548615e4435f/browse/null/title-az/null/0/null',\n",
            " 'https://trs.mediasite.com/mediasite/Channel/trs2daymeetingapril2023/browse/null/title-az/null/0/acd0d6fb80114f40bbead4deea0e582c14',\n",
            " 'https://trs.mediasite.com/mediasite/Channel/trs2daymeetingfebruary2023/browse/null/title-az/null/0/null',\n",
            " 'https://trs.mediasite.com/mediasite/Channel/trs2daymeetingdecember2022/browse/null/title-az/null/0/5c8e0b1b21ac4167b844c4cd5478889714',\n",
            " 'https://trs.mediasite.com/mediasite/Channel/trs2daymeetingseptember2022/browse/null/title-az/null/0/11eae407c8ab4ee6b0e76f30e813d15114',\n",
            " 'https://urldefense.com/v3/__https:/trs.mediasite.com/mediasite/Play/f2611598c594445e98b5ca03f4542db41d__;!!KATJWcSg8mjg!-W4mdjR7GTuCKBzwBfbJIkIf3eyrsOh_AglLL4Kzz1635seKeYNUI3N4SeoUhjs4Qy-M7hSxcKBACQy0Y8tCNp0tYHgCN0R1DOqc1w$',\n",
            " 'https://urldefense.com/v3/__https:/trs.mediasite.com/mediasite/Play/812d17a7f17a4fcea1cc4940b758e6d31d__;!!KATJWcSg8mjg!-W4mdjR7GTuCKBzwBfbJIkIf3eyrsOh_AglLL4Kzz1635seKeYNUI3N4SeoUhjs4Qy-M7hSxcKBACQy0Y8tCNp0tYHgCN0RvfA1SuQ$']\n"
          ]
        }
      ]
    },
    {
      "cell_type": "code",
      "source": [
        "#this code is a pseudo-version of above, it pulls all Mediasite/video links from a page, in this case, TRS, or the Teacher Retirement System of Texas\n",
        "#It ultimately goes through a page and pulls all video links hosted on Mediasite Player and retrieves their URLs."
      ],
      "metadata": {
        "id": "abz_66ZnDUiR"
      },
      "execution_count": null,
      "outputs": []
    },
    {
      "cell_type": "code",
      "source": [
        "from requests_html import AsyncHTMLSession\n",
        "from bs4 import BeautifulSoup\n",
        "import nest_asyncio\n",
        "import asyncio\n",
        "\n",
        "#to allow asyncio to work in Jupyter environments like Colab\n",
        "nest_asyncio.apply()\n",
        "\n",
        "async def fetch_mediasite_links(url):\n",
        "    session = AsyncHTMLSession()\n",
        "\n",
        "    #make request to the page\n",
        "    response = await session.get(url)\n",
        "\n",
        "    #render the JavaScript\n",
        "    await response.html.arender()\n",
        "\n",
        "    #parse the rendered HTML with BeautifulSoup\n",
        "    soup = BeautifulSoup(response.html.html, 'html.parser')\n",
        "\n",
        "    #extract Mediasite links\n",
        "    mediasite_links = []\n",
        "    for link in soup.find_all('a'):\n",
        "        href = link.get('href')\n",
        "        if href and 'mediasite' in href:\n",
        "            mediasite_links.append(href)\n",
        "            print('Mediasite link found:', href)\n",
        "\n",
        "    if not mediasite_links:\n",
        "        print(\"No Mediasite links found.\")\n",
        "    return mediasite_links\n",
        "\n",
        "#function to run the async code and handle event loop\n",
        "async def main(url):\n",
        "    return await fetch_mediasite_links(url)\n",
        "\n",
        "#execute\n",
        "url = 'https://www.trs.texas.gov/Pages/board_meeting_webcasts.aspx'\n",
        "result = await main(url)\n"
      ],
      "metadata": {
        "colab": {
          "base_uri": "https://localhost:8080/"
        },
        "id": "HGVJcxJ6CBHn",
        "outputId": "77d5db27-5b54-4f25-b6a8-9f040abc826f"
      },
      "execution_count": null,
      "outputs": [
        {
          "output_type": "stream",
          "name": "stdout",
          "text": [
            "Mediasite link found: https://urldefense.com/v3/__https:/trs.mediasite.com/mediasite/Play/f2611598c594445e98b5ca03f4542db41d__;!!KATJWcSg8mjg!-W4mdjR7GTuCKBzwBfbJIkIf3eyrsOh_AglLL4Kzz1635seKeYNUI3N4SeoUhjs4Qy-M7hSxcKBACQy0Y8tCNp0tYHgCN0R1DOqc1w$\n",
            "Mediasite link found: https://urldefense.com/v3/__https:/trs.mediasite.com/mediasite/Play/812d17a7f17a4fcea1cc4940b758e6d31d__;!!KATJWcSg8mjg!-W4mdjR7GTuCKBzwBfbJIkIf3eyrsOh_AglLL4Kzz1635seKeYNUI3N4SeoUhjs4Qy-M7hSxcKBACQy0Y8tCNp0tYHgCN0RvfA1SuQ$\n",
            "Mediasite link found: https://trs.mediasite.com/mediasite/Channel/trsjuly/browse/null/title-az/null/0/77e5dbd7e3974351a3593b82d8de604f14\n",
            "Mediasite link found: https://trs.mediasite.com/mediasite/Channel/trsmaymeeting2024/browse/null/title-az/null/0/c0f455d2465c4a66ae3bf37ac7389f2e14\n",
            "Mediasite link found: https://trs.mediasite.com/mediasite/Channel/20242dayboardmeetinglive/browse/null/title-az/null/0/b5fcba3f698741bb94a64336cfdbe27a14\n",
            "Mediasite link found: https://trs.mediasite.com/mediasite/Channel/300ab988e53040ac9403fc52d3f23b7f5f/browse/null/title-az/null/0/59015c1488734650908f845fbd2c659f14\n",
            "Mediasite link found: https://trs.mediasite.com/mediasite/Channel/cda73e960cdd4503b24450ed9c4e7a135f/browse/null/title-az/null/0/2402251da232410daf7f121daa47644714\n",
            "Mediasite link found: https://trs.mediasite.com/mediasite/Channel/76e77c216fc34bdc96bf1ecb43f75f705f/browse/null/title-az/null/0/d1b516ed8299427499d3b26fed97d6c514\n",
            "Mediasite link found: https://trs.mediasite.com/mediasite/Channel/d99db6e037fb4a6387b738548615e4435f/browse/null/title-az/null/0/null\n",
            "Mediasite link found: https://trs.mediasite.com/mediasite/Channel/trs2daymeetingapril2023/browse/null/title-az/null/0/acd0d6fb80114f40bbead4deea0e582c14\n",
            "Mediasite link found: https://trs.mediasite.com/mediasite/Channel/trs2daymeetingfebruary2023/browse/null/title-az/null/0/null\n",
            "Mediasite link found: https://trs.mediasite.com/mediasite/Channel/trs2daymeetingdecember2022/browse/null/title-az/null/0/5c8e0b1b21ac4167b844c4cd5478889714\n",
            "Mediasite link found: https://trs.mediasite.com/mediasite/Channel/trs2daymeetingseptember2022/browse/null/title-az/null/0/11eae407c8ab4ee6b0e76f30e813d15114\n"
          ]
        }
      ]
    }
  ]
}