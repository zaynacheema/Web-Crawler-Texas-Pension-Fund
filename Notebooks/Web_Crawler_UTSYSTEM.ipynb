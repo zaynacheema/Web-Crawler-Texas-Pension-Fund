{
  "nbformat": 4,
  "nbformat_minor": 0,
  "metadata": {
    "colab": {
      "provenance": [],
      "include_colab_link": true
    },
    "kernelspec": {
      "name": "python3",
      "display_name": "Python 3"
    },
    "language_info": {
      "name": "python"
    }
  },
  "cells": [
    {
      "cell_type": "markdown",
      "metadata": {
        "id": "view-in-github",
        "colab_type": "text"
      },
      "source": [
        "<a href=\"https://colab.research.google.com/github/zaynacheema/Web-Crawler-Texas-Pension-Fund/blob/Dev/Notebooks/Web_Crawler_UTSYSTEM.ipynb\" target=\"_parent\"><img src=\"https://colab.research.google.com/assets/colab-badge.svg\" alt=\"Open In Colab\"/></a>"
      ]
    },
    {
      "cell_type": "code",
      "source": [
        "# This code was made to crawl the UTSystem website, starting from the homepage to locate webcast video links hosted on\n",
        "# Mediasite. It navigates through pages, such as \"Regents\" and \"Meetings,\" and extracts links related to board webcasts by\n",
        "# following links that contain specific keywords, in order to locate Board Meeting Webcasts for the Pension Fund.\n"
      ],
      "metadata": {
        "id": "C8yF8C-NBhlC"
      },
      "execution_count": null,
      "outputs": []
    },
    {
      "cell_type": "code",
      "source": [
        "#requirements\n",
        "!pip install bs4"
      ],
      "metadata": {
        "id": "jXuSPjoDyzuU"
      },
      "execution_count": null,
      "outputs": []
    },
    {
      "cell_type": "code",
      "source": [
        "import requests\n",
        "from bs4 import BeautifulSoup\n",
        "from urllib.parse import urljoin\n",
        "\n",
        "def fetch_and_parse(url):\n",
        "    try:\n",
        "        response = requests.get(url)\n",
        "        response.raise_for_status()\n",
        "        content = response.content\n",
        "        return BeautifulSoup(content, 'html.parser')\n",
        "    except requests.RequestException as e:\n",
        "        print(f\"Error fetching {url}: {e}\")\n",
        "        return None\n",
        "\n",
        "def find_webcast_links(start_url):\n",
        "    visited = set()\n",
        "    queue = [start_url]\n",
        "\n",
        "    while queue:\n",
        "        url = queue.pop(0)\n",
        "        if url in visited:\n",
        "            continue\n",
        "        visited.add(url)\n",
        "\n",
        "        soup = fetch_and_parse(url)\n",
        "        if not soup:\n",
        "            continue\n",
        "\n",
        "        for link in soup.find_all('a'):\n",
        "            href = link.get('href')\n",
        "            link_text = link.get_text().strip()\n",
        "\n",
        "            if href and link_text.lower().startswith('webcast for'):\n",
        "                full_url = urljoin(url, href)\n",
        "                if full_url.startswith('http') and full_url not in visited:\n",
        "                    queue.append(full_url)\n",
        "\n",
        "                    # After finding a Webcast link, fetch and extract Mediasite links\n",
        "                    extract_mediasite_links(full_url)\n",
        "\n",
        "def extract_mediasite_links(webcast_url):\n",
        "    #fetch and parse the Webcasts page\n",
        "    soup = fetch_and_parse(webcast_url)\n",
        "    if not soup:\n",
        "        return\n",
        "\n",
        "    #extract Mediasite links\n",
        "    for link in soup.find_all('a'):\n",
        "        href = link.get('href')\n",
        "        if href and 'mediasite' in href:\n",
        "            print(\"Mediasite link found:\", href)\n",
        "\n",
        "def navigate_and_crawl(homepage_url):\n",
        "    soup = fetch_and_parse(homepage_url)\n",
        "    if not soup:\n",
        "        return\n",
        "\n",
        "    #navigate to the \"Regents\" page\n",
        "    regents_page_url = None\n",
        "    for link in soup.find_all('a'):\n",
        "        href = link.get('href')\n",
        "        link_text = link.get_text().strip()\n",
        "        if link_text.lower() == 'regents':\n",
        "            regents_page_url = urljoin(homepage_url, href)\n",
        "            break\n",
        "\n",
        "    if not regents_page_url:\n",
        "        print(\"Regents page not found.\")\n",
        "        return\n",
        "\n",
        "    #navigate to the \"Meetings\" page from the \"Regents\" page\n",
        "    soup = fetch_and_parse(regents_page_url)\n",
        "    if not soup:\n",
        "        return\n",
        "\n",
        "    meetings_page_url = None\n",
        "    for link in soup.find_all('a'):\n",
        "        href = link.get('href')\n",
        "        link_text = link.get_text().strip()\n",
        "        if link_text.lower() == 'meetings':\n",
        "            meetings_page_url = urljoin(regents_page_url, href)\n",
        "            break\n",
        "\n",
        "    if not meetings_page_url:\n",
        "        print(\"Meetings page not found.\")\n",
        "        return\n",
        "\n",
        "    #start the search for Webcast links\n",
        "    find_webcast_links(meetings_page_url)\n",
        "\n",
        "#start from the homepage/source URL\n",
        "homepage_url = 'https://www.utsystem.edu'\n",
        "navigate_and_crawl(homepage_url)\n"
      ],
      "metadata": {
        "id": "Bup6MhUsBi8L"
      },
      "execution_count": null,
      "outputs": []
    }
  ]
}