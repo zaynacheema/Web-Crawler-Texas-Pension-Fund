{
  "nbformat": 4,
  "nbformat_minor": 0,
  "metadata": {
    "colab": {
      "provenance": [],
      "include_colab_link": true
    },
    "kernelspec": {
      "name": "python3",
      "display_name": "Python 3"
    },
    "language_info": {
      "name": "python"
    }
  },
  "cells": [
    {
      "cell_type": "markdown",
      "metadata": {
        "id": "view-in-github",
        "colab_type": "text"
      },
      "source": [
        "<a href=\"https://colab.research.google.com/github/zaynacheema/Web-Crawler-Texas-Pension-Fund/blob/Dev/Web_Crawler_UTSYSTEM.ipynb\" target=\"_parent\"><img src=\"https://colab.research.google.com/assets/colab-badge.svg\" alt=\"Open In Colab\"/></a>"
      ]
    },
    {
      "cell_type": "code",
      "source": [
        "# This code was made to crawl the UTSystem website, starting from the homepage to locate webcast video links hosted on\n",
        "# Mediasite. It navigates through pages, such as \"Regents\" and \"Meetings,\" and extracts links related to board webcasts by\n",
        "# following links that contain specific keywords, in order to locate Board Meeting Webcasts for the Pension Fund.\n"
      ],
      "metadata": {
        "id": "C8yF8C-NBhlC"
      },
      "execution_count": null,
      "outputs": []
    },
    {
      "cell_type": "code",
      "source": [
        "import requests\n",
        "from bs4 import BeautifulSoup\n",
        "from urllib.parse import urljoin\n",
        "\n",
        "def fetch_and_parse(url):\n",
        "    try:\n",
        "        response = requests.get(url)\n",
        "        response.raise_for_status()\n",
        "        content = response.content\n",
        "        return BeautifulSoup(content, 'html.parser')\n",
        "    except requests.RequestException as e:\n",
        "        print(f\"Error fetching {url}: {e}\")\n",
        "        return None\n",
        "\n",
        "def find_webcast_links(start_url):\n",
        "    visited = set()\n",
        "    queue = [start_url]\n",
        "\n",
        "    while queue:\n",
        "        url = queue.pop(0)\n",
        "        if url in visited:\n",
        "            continue\n",
        "        visited.add(url)\n",
        "\n",
        "        soup = fetch_and_parse(url)\n",
        "        if not soup:\n",
        "            continue\n",
        "\n",
        "        for link in soup.find_all('a'):\n",
        "            href = link.get('href')\n",
        "            link_text = link.get_text().strip()\n",
        "\n",
        "            if href and link_text.lower().startswith('webcast for'):\n",
        "                full_url = urljoin(url, href)\n",
        "                if full_url.startswith('http') and full_url not in visited:\n",
        "                    queue.append(full_url)\n",
        "\n",
        "                    # After finding a Webcast link, fetch and extract Mediasite links\n",
        "                    extract_mediasite_links(full_url)\n",
        "\n",
        "def extract_mediasite_links(webcast_url):\n",
        "    #fetch and parse the Webcasts page\n",
        "    soup = fetch_and_parse(webcast_url)\n",
        "    if not soup:\n",
        "        return\n",
        "\n",
        "    #extract Mediasite links\n",
        "    for link in soup.find_all('a'):\n",
        "        href = link.get('href')\n",
        "        if href and 'mediasite' in href:\n",
        "            print(\"Mediasite link found:\", href)\n",
        "\n",
        "def navigate_and_crawl(homepage_url):\n",
        "    soup = fetch_and_parse(homepage_url)\n",
        "    if not soup:\n",
        "        return\n",
        "\n",
        "    #navigate to the \"Regents\" page\n",
        "    regents_page_url = None\n",
        "    for link in soup.find_all('a'):\n",
        "        href = link.get('href')\n",
        "        link_text = link.get_text().strip()\n",
        "        if link_text.lower() == 'regents':\n",
        "            regents_page_url = urljoin(homepage_url, href)\n",
        "            break\n",
        "\n",
        "    if not regents_page_url:\n",
        "        print(\"Regents page not found.\")\n",
        "        return\n",
        "\n",
        "    #navigate to the \"Meetings\" page from the \"Regents\" page\n",
        "    soup = fetch_and_parse(regents_page_url)\n",
        "    if not soup:\n",
        "        return\n",
        "\n",
        "    meetings_page_url = None\n",
        "    for link in soup.find_all('a'):\n",
        "        href = link.get('href')\n",
        "        link_text = link.get_text().strip()\n",
        "        if link_text.lower() == 'meetings':\n",
        "            meetings_page_url = urljoin(regents_page_url, href)\n",
        "            break\n",
        "\n",
        "    if not meetings_page_url:\n",
        "        print(\"Meetings page not found.\")\n",
        "        return\n",
        "\n",
        "    #start the search for Webcast links\n",
        "    find_webcast_links(meetings_page_url)\n",
        "\n",
        "#start from the homepage/source URL\n",
        "homepage_url = 'https://www.utsystem.edu'\n",
        "navigate_and_crawl(homepage_url)\n"
      ],
      "metadata": {
        "colab": {
          "base_uri": "https://localhost:8080/"
        },
        "id": "Bup6MhUsBi8L",
        "outputId": "0b21c702-324e-4946-b5df-46e9539318a5"
      },
      "execution_count": null,
      "outputs": [
        {
          "output_type": "stream",
          "name": "stdout",
          "text": [
            "Mediasite link found: https://utsystem.mediasite.com/Mediasite/Play/8fce0b9cf7ce47ccaf1d9217db5466ab1d\n",
            "Mediasite link found: https://utsystem.mediasite.com/Mediasite/Play/b411bd8d27bd40c3ad8acef9dd56fbc61d\n",
            "Mediasite link found: https://utsystem.mediasite.com/Mediasite/Play/b30f69c3049d47ca8aacf26cebadfc8a1d\n",
            "Mediasite link found: https://utsystem.mediasite.com/Mediasite/Play/ddc40de4bccf4bc0bf933a308ca238be1d\n",
            "Mediasite link found: https://utsystem.mediasite.com/Mediasite/Play/a3c01cb4d6f44bb09803e6ae37c71e2b1d\n",
            "Mediasite link found: https://utsystem.mediasite.com/Mediasite/Play/52cefc356a1f44ff9c647d3a25c2fa0e1d\n",
            "Mediasite link found: https://utsystem.mediasite.com/Mediasite/Play/cf0e0e7347264affb71cd4e76c4ddea61d\n",
            "Mediasite link found: https://utsystem.mediasite.com/Mediasite/Play/ea9533ce2da34e4abc107e0a06d9ceee1d\n",
            "Mediasite link found: https://utsystem.mediasite.com/Mediasite/Play/a30258d7dc264d94a0f0902f014dfa121d\n",
            "Mediasite link found: https://utsystem.mediasite.com/Mediasite/Play/f7095c7b0a3449f9a1977870591dfe111d\n",
            "Mediasite link found: https://utsystem.mediasite.com/Mediasite/Play/99a0c202899a48e0b9ee6285f39b0d511d\n",
            "Mediasite link found: https://utsystem.mediasite.com/Mediasite/Play/2adf3a0a2c2d45c791665786cf5995c41d\n"
          ]
        }
      ]
    }
  ]
}